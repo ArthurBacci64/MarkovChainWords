{
 "cells": [
  {
   "cell_type": "code",
   "execution_count": 8,
   "metadata": {},
   "outputs": [],
   "source": [
    "with open('data.txt', 'r') as f:\n",
    "    text = f.read()"
   ]
  },
  {
   "cell_type": "code",
   "execution_count": 9,
   "metadata": {},
   "outputs": [],
   "source": [
    "twords = text.replace('\\n', ' ').split(' ')"
   ]
  },
  {
   "cell_type": "code",
   "execution_count": 10,
   "metadata": {},
   "outputs": [],
   "source": [
    "words = []\n",
    "for i in twords:\n",
    "    if i not in words:\n",
    "        words.append(i)"
   ]
  },
  {
   "cell_type": "code",
   "execution_count": 11,
   "metadata": {},
   "outputs": [],
   "source": [
    "import numpy as np\n",
    "\n",
    "ptable = np.zeros((len(words), len(words)))\n",
    "\n",
    "for i, j in [[twords[i], twords[i + 1]] for i in range(len(twords) - 1)]:\n",
    "    ptable[words.index(i)][words.index(j)] += 1\n",
    "    \n",
    "    \n",
    "for i in ptable:\n",
    "    if sum(i) > 0:\n",
    "        i /= sum(i)\n",
    "    "
   ]
  },
  {
   "cell_type": "code",
   "execution_count": null,
   "metadata": {},
   "outputs": [],
   "source": [
    "import random\n",
    "\n",
    "gwords = [random.choice(words)]\n",
    "\n",
    "for i in range(100):\n",
    "    if np.sum(ptable[words.index(gwords[-1])]) == 0:\n",
    "        break\n",
    "    gwords.append(\n",
    "        words[\n",
    "            random.choices(\n",
    "                range(len(words)),\n",
    "                weights=ptable[words.index(gwords[-1])]\n",
    "            )[0]\n",
    "        ])\n",
    "\n",
    "result = ' '.join(gwords)\n",
    "print(result)"
   ]
  },
  {
   "cell_type": "code",
   "execution_count": null,
   "metadata": {},
   "outputs": [],
   "source": []
  }
 ],
 "metadata": {
  "kernelspec": {
   "display_name": "Python 3",
   "language": "python",
   "name": "python3"
  },
  "language_info": {
   "codemirror_mode": {
    "name": "ipython",
    "version": 3
   },
   "file_extension": ".py",
   "mimetype": "text/x-python",
   "name": "python",
   "nbconvert_exporter": "python",
   "pygments_lexer": "ipython3",
   "version": "3.9.1"
  }
 },
 "nbformat": 4,
 "nbformat_minor": 4
}
